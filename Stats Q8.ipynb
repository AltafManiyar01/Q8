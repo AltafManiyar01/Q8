{
 "cells": [
  {
   "cell_type": "markdown",
   "id": "a5ce9396",
   "metadata": {},
   "source": [
    "###   Q8) Calculate Expected Value for the problem below\n",
    "a)\tThe weights (X) of patients at a clinic (in pounds), are\n",
    "108, 110, 123, 134, 135, 145, 167, 187, 199\n",
    "Assume one of the patients is chosen at random. What is the Expected Value of the Weight of that patient?\n",
    "   "
   ]
  },
  {
   "cell_type": "code",
   "execution_count": 1,
   "id": "354729ec",
   "metadata": {},
   "outputs": [
    {
     "name": "stdout",
     "output_type": "stream",
     "text": [
      "The Expected Value of the weight of a randomly chosen patient is: 145.33333333333334\n"
     ]
    }
   ],
   "source": [
    "# Given weights of patients\n",
    "weights = [108, 110, 123, 134, 135, 145, 167, 187, 199]\n",
    "\n",
    "# Calculate the sum of weights\n",
    "sum_of_weights = sum(weights)\n",
    "\n",
    "# Calculate the total number of patients\n",
    "total_patients = len(weights)\n",
    "\n",
    "# Calculate the expected value (mean)\n",
    "expected_value = sum_of_weights / total_patients\n",
    "\n",
    "print(\"The Expected Value of the weight of a randomly chosen patient is:\", expected_value)\n"
   ]
  }
 ],
 "metadata": {
  "kernelspec": {
   "display_name": "Python 3 (ipykernel)",
   "language": "python",
   "name": "python3"
  },
  "language_info": {
   "codemirror_mode": {
    "name": "ipython",
    "version": 3
   },
   "file_extension": ".py",
   "mimetype": "text/x-python",
   "name": "python",
   "nbconvert_exporter": "python",
   "pygments_lexer": "ipython3",
   "version": "3.11.5"
  }
 },
 "nbformat": 4,
 "nbformat_minor": 5
}
